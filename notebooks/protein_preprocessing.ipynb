{
 "cells": [
  {
   "cell_type": "code",
   "execution_count": 1,
   "id": "3d967565",
   "metadata": {},
   "outputs": [],
   "source": [
    "import numpy as np\n",
    "import networkx as nx\n",
    "import torch\n",
    "from torch_geometric.utils import dense_to_sparse\n",
    "from torch_geometric.data import Data"
   ]
  },
  {
   "cell_type": "code",
   "execution_count": 2,
   "id": "911e4035",
   "metadata": {},
   "outputs": [],
   "source": [
    "nodes = np.load('protein/node_feat.npy')"
   ]
  },
  {
   "cell_type": "code",
   "execution_count": 6,
   "id": "0119813f",
   "metadata": {},
   "outputs": [],
   "source": [
    "edge = np.load('protein/edge_feat.npy')"
   ]
  },
  {
   "cell_type": "code",
   "execution_count": 9,
   "id": "44a745a5",
   "metadata": {},
   "outputs": [],
   "source": [
    "all_gs = []\n",
    "for j in range(len(nodes)):\n",
    "    all_gs.append(Data(x=torch.FloatTensor(nodes[j]), edge_index=dense_to_sparse(torch.FloatTensor(edge[j][:, :, 0]))[0]))"
   ]
  },
  {
   "cell_type": "code",
   "execution_count": 10,
   "id": "e66a9e21",
   "metadata": {},
   "outputs": [],
   "source": [
    "torch.save(all_gs[:38000], 'protein_train.pt')\n",
    "torch.save(all_gs[38000:], 'protein_test.pt')"
   ]
  }
 ],
 "metadata": {
  "kernelspec": {
   "display_name": "Python (gnn_rdkit)",
   "language": "python",
   "name": "gnn_rdkit"
  },
  "language_info": {
   "codemirror_mode": {
    "name": "ipython",
    "version": 3
   },
   "file_extension": ".py",
   "mimetype": "text/x-python",
   "name": "python",
   "nbconvert_exporter": "python",
   "pygments_lexer": "ipython3",
   "version": "3.9.5"
  }
 },
 "nbformat": 4,
 "nbformat_minor": 5
}
