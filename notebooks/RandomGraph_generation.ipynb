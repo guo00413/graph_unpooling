{
 "cells": [
  {
   "cell_type": "code",
   "execution_count": 219,
   "id": "3d967565",
   "metadata": {},
   "outputs": [],
   "source": [
    "import numpy as np\n",
    "import networkx as nx\n",
    "from util_richer import dataFromGraph\n",
    "import torch"
   ]
  },
  {
   "cell_type": "code",
   "execution_count": 201,
   "id": "e4135586",
   "metadata": {},
   "outputs": [],
   "source": [
    "all_g = []\n",
    "all_lens = []\n",
    "all_es = []\n",
    "beta=0.65\n",
    "alpha=0.3\n",
    "L=None\n",
    "n = 12\n",
    "for j in range(20000):\n",
    "    g = nx.waxman_graph(n=n, beta=beta, alpha=alpha, L=L, domain=(0, 0, 1, 1), metric=None, seed=None)\n",
    "    comp = max(nx.connected_components(g), key=len)\n",
    "    sg = nx.subgraph(g, comp)\n",
    "    if len(sg) >= 5:\n",
    "        all_lens.append(len(sg))\n",
    "        all_g.append(dataFromGraph(sg))\n",
    "        all_es.append(len(sg.edges))\n",
    "\n",
    "torch.save(all_g, 'rand_data.pt')"
   ]
  },
  {
   "cell_type": "code",
   "execution_count": 220,
   "id": "7bb4db1f",
   "metadata": {},
   "outputs": [],
   "source": [
    "all_g = torch.load('rand_data.pt')"
   ]
  },
  {
   "cell_type": "code",
   "execution_count": 228,
   "id": "3ab96ac1",
   "metadata": {},
   "outputs": [],
   "source": [
    "padded_all_g = []\n",
    "for j in all_g:\n",
    "    new_x = torch.zeros(12, 3)\n",
    "    new_x[:j.x.size(0), :2] = j.x\n",
    "    new_x[:j.x.size(0), 2] = 1\n",
    "    padded_all_g.append(Data(x=new_x, edge_index=j.edge_index, edge_attr=torch.ones(j.edge_index.size(1))))"
   ]
  },
  {
   "cell_type": "code",
   "execution_count": 229,
   "id": "03c705c1",
   "metadata": {},
   "outputs": [],
   "source": [
    "torch.save(padded_all_g, 'rand_data_padded.pt') \n",
    "# padded data is to ensure data is 12 nodes per graph, but filled with empty nodes.\n",
    "# Also, add one more dim in node feature corresponding for existence of the node."
   ]
  },
  {
   "cell_type": "code",
   "execution_count": 205,
   "id": "c04df389",
   "metadata": {},
   "outputs": [
    {
     "name": "stdout",
     "output_type": "stream",
     "text": [
      "0.2133262823902697\n"
     ]
    },
    {
     "data": {
      "image/png": "[encoded data removed]",
      "text/plain": [
       "<Figure size 504x288 with 2 Axes>"
      ]
     },
     "metadata": {
      "needs_background": "light"
     },
     "output_type": "display_data"
    }
   ],
   "source": [
    "%matplotlib inline\n",
    "pts = 5\n",
    "import matplotlib.pyplot as plt\n",
    "fig, ax = plt.subplots(1, 2, figsize=(7,4))\n",
    "ax[0].hist(all_lens, bins=range(min(all_lens), max(all_lens)+1))\n",
    "ax[1].hist(all_es, bins=range(min(all_es), max(all_es)+1))\n",
    "ax[0].set_title(f'Hist of nodes count, \\nmean:{np.mean(all_lens)}, median:{np.median(all_lens)}\\n {np.percentile(all_lens, pts)} to {np.percentile(all_lens, 100-pts)}')\n",
    "ax[1].set_title(f'Hist of edges count, \\nmean:{np.mean(all_es)}, median:{np.median(all_es)}\\n {np.percentile(all_es, pts)} to {np.percentile(all_es, 100-pts)}')\n",
    "print (np.mean([all_lens[j] > all_es[j] for j in range(len(all_lens))]))\n",
    "fig.tight_layout()"
   ]
  }
 ],
 "metadata": {
  "kernelspec": {
   "display_name": "Python (gnn_rdkit)",
   "language": "python",
   "name": "gnn_rdkit"
  },
  "language_info": {
   "codemirror_mode": {
    "name": "ipython",
    "version": 3
   },
   "file_extension": ".py",
   "mimetype": "text/x-python",
   "name": "python",
   "nbconvert_exporter": "python",
   "pygments_lexer": "ipython3",
   "version": "3.9.5"
  }
 },
 "nbformat": 4,
 "nbformat_minor": 5
}
