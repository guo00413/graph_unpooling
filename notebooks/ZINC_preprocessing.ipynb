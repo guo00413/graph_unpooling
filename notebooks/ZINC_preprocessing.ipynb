{
 "cells": [
  {
   "cell_type": "code",
   "execution_count": 1,
   "metadata": {},
   "outputs": [],
   "source": [
    "data_folder = '../data'\n",
    "code_folder = '../codes'\n",
    "import sys\n",
    "sys.path.append(code_folder)"
   ]
  },
  {
   "cell_type": "code",
   "execution_count": 2,
   "metadata": {},
   "outputs": [],
   "source": [
    "import os\n",
    "fop = open(os.path.join(data_folder, 'zinc.txt'))\n",
    "mols = []\n",
    "mols += [j.strip() for j in fop.readlines()]\n",
    "fop.close()"
   ]
  },
  {
   "cell_type": "code",
   "execution_count": 3,
   "metadata": {},
   "outputs": [
    {
     "data": {
      "text/plain": [
       "(249456,\n",
       " ['CC(C)(C)c1ccc2occ(CC(=O)Nc3ccccc3F)c2c1',\n",
       "  'C[C@@H]1CC(Nc2cncc(-c3nncn3C)c2)C[C@@H](C)C1'])"
      ]
     },
     "execution_count": 3,
     "metadata": {},
     "output_type": "execute_result"
    }
   ],
   "source": [
    "len(mols), mols[:2]"
   ]
  },
  {
   "cell_type": "code",
   "execution_count": 4,
   "metadata": {},
   "outputs": [
    {
     "name": "stderr",
     "output_type": "stream",
     "text": [
      "/home/prod/supplementary_neurips2022/notebooks/../codes/util_richer.py:17: UserWarning: Don't have scscore package, please clone it from https://github.com/connorcoley/scscore and copy the `scscore` folder under codes folder. Currently, we will return 0 for SA score.\n",
      "  warnings.warn(\"Don't have scscore package, please clone it from https://github.com/connorcoley/scscore and copy the `scscore` folder under codes folder. Currently, we will return 0 for SA score.\")\n"
     ]
    }
   ],
   "source": [
    "from rdkit import Chem\n",
    "import pandas as pd\n",
    "from rdkit.Chem.QED import qed\n",
    "from rdkit.Chem.rdMolDescriptors import BCUT2D\n",
    "from rdkit.Chem import Crippen\n",
    "from util_richer import dataFromSmile\n",
    "from rdkit import RDLogger    \n",
    "RDLogger.DisableLog('rdApp.*')\n",
    "all_graphs = []\n",
    "for smile_str in mols:\n",
    "    used = dataFromSmile(smile_str, without_aroma=True)\n",
    "    all_graphs.append(used)"
   ]
  },
  {
   "cell_type": "code",
   "execution_count": 6,
   "metadata": {},
   "outputs": [],
   "source": [
    "from util_molecular import MolFromTorchGraphData_enriched\n",
    "all_smiles = []\n",
    "for j in all_graphs:\n",
    "    mol_comp = MolFromTorchGraphData_enriched(j, without_aroma=True, node_dim=9)\n",
    "    all_smiles.append(Chem.MolToSmiles(mol_comp))"
   ]
  },
  {
   "cell_type": "code",
   "execution_count": 7,
   "metadata": {},
   "outputs": [],
   "source": [
    "import torch\n",
    "torch.save(all_graphs, 'zinc_data_noar.pt')\n",
    "torch.save(all_smiles, 'zinc_smiles_noar.pt')"
   ]
  }
 ],
 "metadata": {
  "kernelspec": {
   "display_name": "Python 3",
   "language": "python",
   "name": "python3"
  },
  "language_info": {
   "codemirror_mode": {
    "name": "ipython",
    "version": 3
   },
   "file_extension": ".py",
   "mimetype": "text/x-python",
   "name": "python",
   "nbconvert_exporter": "python",
   "pygments_lexer": "ipython3",
   "version": "3.9.5"
  }
 },
 "nbformat": 4,
 "nbformat_minor": 4
}
