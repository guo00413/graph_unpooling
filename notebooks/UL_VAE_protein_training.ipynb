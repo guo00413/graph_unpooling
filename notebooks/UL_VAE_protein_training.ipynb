{
 "cells": [
  {
   "cell_type": "code",
   "execution_count": 1,
   "id": "53e69ed1",
   "metadata": {},
   "outputs": [],
   "source": [
    "import sys\n",
    "util_path = '../codes'\n",
    "sys.path.append(util_path)\n",
    "from model_graph import RGDiscrimininator, RGULGenerator, RGVAE\n"
   ]
  },
  {
   "cell_type": "code",
   "execution_count": 5,
   "id": "f16f961c",
   "metadata": {},
   "outputs": [],
   "source": [
    "device = 'cuda:5'"
   ]
  },
  {
   "cell_type": "code",
   "execution_count": 6,
   "id": "9764d896",
   "metadata": {},
   "outputs": [],
   "source": [
    "generator = RGULGenerator(in_dim=128, initial_dim=128, \\\n",
    "            hidden_dims=[[64, 64], [64, 128], [256]], \\\n",
    "            final_layer_dims=[128, 256], hidden_act='relu', \\\n",
    "            edge_hidden_dim=8, \\\n",
    "            leaky_relu_coef=0.05, device=device, \\\n",
    "            skip_z=True, skip_z_dims=None, \\\n",
    "            unpool_bn=False, link_bn=False, \\\n",
    "            link_act='leaky', unpool_para=dict(add_additional_link=True, add_perference=True, \\\n",
    "                                roll_bn=False, roll_simple=True, add_bn=False), \\\n",
    "            attr_bn=False, edge_out_dim=None, \\\n",
    "            fix_points=[2, 0], roll_ones=[0, 0], node_nums = [3, 4, 8], \\\n",
    "            use_bn=False, final_bn=False, node_feature=3\n",
    "            , skipz_bn=False\n",
    "            )\n",
    "discriminator = RGDiscrimininator(in_dim=3, hidden_dim=[128, 256], lin_hidden_dim=128, \n",
    "                out_hidden_dim=[128, 256], device=device, \\\n",
    "                useBN=False, droprate=None, outBN=False, out_drop=None, \\\n",
    "                final_layers=2, \\\n",
    "                conv_layers=2,\n",
    "                last_act='linear', relu_coef=0.05, outdim=128)\n",
    "vae = RGVAE(generator, discriminator, 128, 128, \n",
    "                lr=2e-4, beta=(0.5, 0.999), g_prob=True, \n",
    "                permutation=False, max_num_nodes=8, folder='vae_protein_1002', \n",
    "           device=device, lambda_rl=1e-1,\n",
    "                       beta_node=2.0, beta_edge=3.0, beta_edge_total=1, beta_node_degree=1, beta_node_feature=1, \n",
    "           batch_size=64)\n",
    "vae = vae.to(device)"
   ]
  },
  {
   "cell_type": "code",
   "execution_count": 10,
   "id": "4fb562b4",
   "metadata": {},
   "outputs": [
    {
     "name": "stderr",
     "output_type": "stream",
     "text": [
      "/tmp/ipykernel_732466/764648483.py:6: UserWarning: nn.init.xavier_normal is now deprecated in favor of nn.init.xavier_normal_.\n",
      "  nn.init.xavier_normal(param)\n",
      "/tmp/ipykernel_732466/764648483.py:4: UserWarning: nn.init.constant is now deprecated in favor of nn.init.constant_.\n",
      "  nn.init.constant(param, 0)\n"
     ]
    }
   ],
   "source": [
    "from torch import nn\n",
    "for param in vae.parameters():\n",
    "    if param.dim() == 1:\n",
    "        nn.init.constant(param, 0)\n",
    "    else:\n",
    "        nn.init.xavier_normal(param)\n",
    "\n",
    "def weight_initiate(m):\n",
    "    # Make inititiate with some variance.\n",
    "    if(type(m) == nn.BatchNorm2d) or (type(m) == nn.modules.batchnorm.BatchNorm2d):\n",
    "        nn.init.normal_(m.weight.data, 1.0, 0.02)\n",
    "        nn.init.constant_(m.bias.data, 0)\n",
    "    elif (type(m) == nn.BatchNorm1d) or (type(m) == nn.modules.batchnorm.BatchNorm1d):\n",
    "        nn.init.normal_(m.weight.data, 1.0, 0.02)\n",
    "        nn.init.constant_(m.bias.data, 0)\n",
    "    else:\n",
    "        if hasattr(m, \"weight\"):\n",
    "            nn.init.normal_(m.weight.data, 0.0, 0.02)\n",
    "        if hasattr(m, \"bias\") and m.bias is not None:\n",
    "            nn.init.normal_(m.bias.data, 0.0, 0.02)\n",
    "        if hasattr(m, \"root\") and m.root is not None:\n",
    "            nn.init.normal_(m.bias.data, 0.0, 0.02)\n",
    "\n",
    "\n",
    "_ = vae.decoder.apply(weight_initiate)"
   ]
  },
  {
   "cell_type": "code",
   "execution_count": 11,
   "id": "782a7f7c",
   "metadata": {},
   "outputs": [],
   "source": [
    "import torch\n",
    "from torch_geometric.loader import DataLoader\n",
    "real_data = torch.load('protein_train.pt')\n",
    "batch_size = 128\n",
    "data_loader = DataLoader(real_data, batch_size=64, shuffle=True, follow_batch=['edge_index'])"
   ]
  },
  {
   "cell_type": "code",
   "execution_count": null,
   "id": "bef55e7b",
   "metadata": {},
   "outputs": [],
   "source": [
    "vae.train(data_loader, epoch=range(200), beta=0, verbose_step=50, save_step=1000)"
   ]
  },
  {
   "cell_type": "code",
   "execution_count": 20,
   "id": "24f1788f",
   "metadata": {},
   "outputs": [],
   "source": [
    "torch.save(vae, 'ULVAE_protein.pt')"
   ]
  },
  {
   "cell_type": "code",
   "execution_count": 21,
   "id": "57fe9789",
   "metadata": {},
   "outputs": [],
   "source": [
    "_ = vae.encoder.eval()\n",
    "_ = vae.decoder.eval()\n",
    "_ = vae.z_mu.eval()\n",
    "_ = vae.z_sigma.eval()\n",
    "from model_random_graph import convert_Batch_to_datalist\n",
    "test_data = []\n",
    "with torch.no_grad():\n",
    "    for attemp in range(160):\n",
    "        z_rand = torch.randn(64, vae.decoder.in_dim)#*tot_h_data.std(axis=0).unsqueeze(0) + tot_h_data.mean(axis=0).unsqueeze(0)\n",
    "        z_mu = vae.z_mu(z_rand)\n",
    "        z_lsgms = vae.z_sigma(z_rand)\n",
    "        z_sgm = z_lsgms.mul(0.5).exp_()\n",
    "        eps = torch.randn(z_sgm.size()).to(vae.device)\n",
    "        z = eps*z_sgm + z_mu\n",
    "        data, _ = vae.decoder(z)\n",
    "        data_list = convert_Batch_to_datalist(data.x, data.edge_index, batch=data.batch, edge_batch = data.edge_index_batch)\n",
    "        test_data.extend(data_list)\n"
   ]
  },
  {
   "cell_type": "code",
   "execution_count": 23,
   "id": "a91a1ae4",
   "metadata": {},
   "outputs": [
    {
     "data": {
      "text/plain": [
       "{'kl_connectivity': 0.7909808086944171,\n",
       " 'wd_connectivity': 0.37333691406249997,\n",
       " 'kl_edge_density': 0.4917165139725243,\n",
       " 'wd_edge_density': 0.040913831208881576,\n",
       " 'kl_clustering_coef': 0.8893497330796853,\n",
       " 'wd_clustering_coef': 0.07206787060424498,\n",
       " 'kl_avg_degrees': 0.4917165139725243,\n",
       " 'wd_avg_degrees': 0.3273106496710526,\n",
       " 'kl_node_features': [0.1054675920273398,\n",
       "  0.1684474793322888,\n",
       "  0.26862284392368063],\n",
       " 'wd_node_features': [2.7561263463979624,\n",
       "  7.0281805451755375,\n",
       "  3.2462799598981746]}"
      ]
     },
     "execution_count": 23,
     "metadata": {},
     "output_type": "execute_result"
    }
   ],
   "source": [
    "from torch_geometric.utils import dense_to_sparse, to_dense_adj, to_dense_batch\n",
    "from evaluate import kld_evaluation\n",
    "kld_evaluation(real_data, test_data, distributions)"
   ]
  }
 ],
 "metadata": {
  "kernelspec": {
   "display_name": "gnn",
   "language": "python",
   "name": "gnn"
  },
  "language_info": {
   "codemirror_mode": {
    "name": "ipython",
    "version": 3
   },
   "file_extension": ".py",
   "mimetype": "text/x-python",
   "name": "python",
   "nbconvert_exporter": "python",
   "pygments_lexer": "ipython3",
   "version": "3.10.5"
  }
 },
 "nbformat": 4,
 "nbformat_minor": 5
}
