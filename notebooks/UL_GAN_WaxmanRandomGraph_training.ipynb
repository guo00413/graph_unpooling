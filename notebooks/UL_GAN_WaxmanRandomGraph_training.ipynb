{
 "cells": [
  {
   "cell_type": "code",
   "execution_count": 2,
   "id": "3d967565",
   "metadata": {},
   "outputs": [
    {
     "name": "stderr",
     "output_type": "stream",
     "text": [
      "/home/anaconda3/envs/gnn/lib/python3.10/site-packages/tqdm/auto.py:22: TqdmWarning: IProgress not found. Please update jupyter and ipywidgets. See https://ipywidgets.readthedocs.io/en/stable/user_install.html\n",
      "  from .autonotebook import tqdm as notebook_tqdm\n"
     ]
    }
   ],
   "source": [
    "import numpy as np\n",
    "import pandas as pd\n",
    "import networkx as nx\n",
    "import torch\n",
    "import sys\n",
    "util_path = '../codes/'\n",
    "sys.path.append(util_path)"
   ]
  },
  {
   "cell_type": "code",
   "execution_count": 3,
   "id": "a5f84c83",
   "metadata": {},
   "outputs": [],
   "source": [
    "from networkx import average_clustering, clustering, average_node_connectivity"
   ]
  },
  {
   "cell_type": "code",
   "execution_count": 4,
   "id": "5e87de38",
   "metadata": {},
   "outputs": [],
   "source": [
    "from networkx import Graph"
   ]
  },
  {
   "cell_type": "code",
   "execution_count": 147,
   "id": "7e90d4e2",
   "metadata": {},
   "outputs": [],
   "source": [
    "from model_graph import RGDiscrimininator, RGULGenerator, GANTrainerComb\n",
    "from evaluate import convert_sample_to_space, graph_set_info"
   ]
  },
  {
   "cell_type": "code",
   "execution_count": 7,
   "id": "91226ab9",
   "metadata": {},
   "outputs": [],
   "source": [
    "all_g = torch.load('rand_data.pt')"
   ]
  },
  {
   "cell_type": "code",
   "execution_count": 11,
   "id": "8b49c93b",
   "metadata": {},
   "outputs": [],
   "source": [
    "from torch_geometric.loader import DataLoader\n",
    "\n",
    "device = 'cuda:5'\n",
    "generator = RGULGenerator(in_dim=128, initial_dim=128, \\\n",
    "            hidden_dims=[[64], [128], [512]], \\\n",
    "            final_layer_dims=[64], hidden_act='relu', \\\n",
    "            edge_hidden_dim=8, \\\n",
    "            leaky_relu_coef=0.05, device=device, \\\n",
    "            skip_z=True, skip_z_dims=None, \\\n",
    "            unpool_bn=True, link_bn=True, \\\n",
    "            link_act='leaky', unpool_para=dict(add_additional_link=True, add_perference=True, \\\n",
    "                                roll_bn=True, roll_simple=True, add_bn=False), \\\n",
    "            attr_bn=True, edge_out_dim=None, \\\n",
    "            fix_points=[0, 0], roll_ones=[2, 5], node_nums = [3, 6, 12], \\\n",
    "            )\n",
    "\n",
    "\n",
    "discriminator = RGDiscrimininator(in_dim=2, hidden_dim=[64, 128], lin_hidden_dim=128, \n",
    "                out_hidden_dim=[128, 258], device=device, \\\n",
    "                useBN=True, droprate=None, outBN=True, out_drop=0.3, \\\n",
    "                final_layers=2, \\\n",
    "                conv_layers=2,\n",
    "                last_act='sigmoid', relu_coef=0.05)\n",
    "\n",
    "generator = generator.to(device)\n",
    "discriminator = discriminator.to(device)\n",
    "batch_size = 64\n",
    "data_loader = DataLoader(all_g, batch_size=batch_size, shuffle=True, follow_batch=['edge_index'])\n"
   ]
  },
  {
   "cell_type": "code",
   "execution_count": 18,
   "id": "50d459a3",
   "metadata": {},
   "outputs": [],
   "source": [
    "trainer = GANTrainerComb(discriminator, generator, rand_dim=128, train_folder='random_graph_0905_gpu', \\\n",
    "                   tot_epoch_num=500, eval_iter_num=100, batch_size=64, \\\n",
    "                   device=device, d_add=None, learning_rate_g=2e-5, learning_rate_d=1e-4, \\\n",
    "                   lambda_g=0.0, max_train_G=5, tresh_add_trainG=0.2, \\\n",
    "                   use_loss='bce', \\\n",
    "                   g_out_prob=True, lambda_rl=1.0, \\\n",
    "                   lambda_nonodes = 0.,\n",
    "                   lambda_noedges = 0.,\n",
    "                   trainD=True, \\\n",
    "                   initial_weight=True\n",
    "            )"
   ]
  },
  {
   "cell_type": "code",
   "execution_count": null,
   "id": "c43782ce",
   "metadata": {},
   "outputs": [],
   "source": [
    "trainer.train(data_loader, verbose=False, \\\n",
    "        NN=200, evaluate_num=1000, mol_data=None, \\\n",
    "        alter_trainer=False, reinforce_acclerate=True) #, only_train=None)"
   ]
  },
  {
   "cell_type": "code",
   "execution_count": 19,
   "id": "30cc035d",
   "metadata": {},
   "outputs": [],
   "source": [
    "torch.save(test_data, 'UL_GAN_random_graph.pt')"
   ]
  },
  {
   "cell_type": "code",
   "execution_count": 148,
   "id": "5f0f4a32",
   "metadata": {},
   "outputs": [],
   "source": [
    "node_cnts, edge_cnts, node_features, degrees, dense_edge, connectivities, clustering = graph_set_info(all_g, return_raw=True)"
   ]
  },
  {
   "cell_type": "code",
   "execution_count": 39,
   "id": "0353fdf9",
   "metadata": {},
   "outputs": [],
   "source": [
    "import os"
   ]
  },
  {
   "cell_type": "code",
   "execution_count": 149,
   "id": "0d30e3e7",
   "metadata": {},
   "outputs": [],
   "source": [
    "distributions = node_cnts, edge_cnts, node_features, degrees, dense_edge, connectivities, clustering"
   ]
  },
  {
   "cell_type": "code",
   "execution_count": 150,
   "id": "a319b83a",
   "metadata": {},
   "outputs": [
    {
     "data": {
      "text/plain": [
       "{'kl_connectivity': 0.024769900943519815,\n",
       " 'wd_connectivity': 0.048033344245805215,\n",
       " 'kl_edge_density': 0.05628528797056805,\n",
       " 'wd_edge_density': 0.010992660790975398,\n",
       " 'kl_clustering_coef': 0.030925141305384186,\n",
       " 'wd_clustering_coef': 0.038220395449757374,\n",
       " 'kl_avg_degrees': 0.1077621244276535,\n",
       " 'wd_avg_degrees': 0.05911188757021568,\n",
       " 'kl_node_features': [0.16375693393765967, 0.19472734861483174],\n",
       " 'wd_node_features': [0.07884708782282389, 0.09150449185723417]}"
      ]
     },
     "execution_count": 150,
     "metadata": {},
     "output_type": "execute_result"
    }
   ],
   "source": [
    "from torch_geometric.utils import dense_to_sparse, to_dense_adj, to_dense_batch\n",
    "from evaluate import kld_evaluation\n",
    "kld_evaluation(all_g, test_data, distributions)"
   ]
  },
  {
   "cell_type": "code",
   "execution_count": 158,
   "id": "ba4c5639",
   "metadata": {},
   "outputs": [
    {
     "name": "stderr",
     "output_type": "stream",
     "text": [
      "/home/anaconda3/envs/gnn/lib/python3.10/site-packages/torch/nn/functional.py:1944: UserWarning: nn.functional.sigmoid is deprecated. Use torch.sigmoid instead.\n",
      "  warnings.warn(\"nn.functional.sigmoid is deprecated. Use torch.sigmoid instead.\")\n"
     ]
    }
   ],
   "source": [
    "_ = generator.eval()\n",
    "test_data = []\n",
    "with torch.no_grad():\n",
    "    for attemp in range(160):\n",
    "        z = (torch.rand(64, 128) * 2 - 1).to(device)\n",
    "        data, x = generator(z)\n",
    "\n",
    "        from model_random_graph import convert_Batch_to_datalist\n",
    "        data_list = convert_Batch_to_datalist(data.x, data.edge_index, batch=data.batch, edge_batch = data.edge_index_batch)\n",
    "        test_data.extend(data_list)"
   ]
  },
  {
   "cell_type": "code",
   "execution_count": 159,
   "id": "523322ce",
   "metadata": {},
   "outputs": [
    {
     "data": {
      "text/plain": [
       "{'kl_connectivity': 0.010564814866864699,\n",
       " 'wd_connectivity': 0.03374130897432577,\n",
       " 'kl_edge_density': 0.003672168791364585,\n",
       " 'wd_edge_density': 0.0009746384686460247,\n",
       " 'kl_clustering_coef': 0.02703565696837029,\n",
       " 'wd_clustering_coef': 0.022620992844200254,\n",
       " 'kl_avg_degrees': 0.021279956097155616,\n",
       " 'wd_avg_degrees': 0.043432854367453325,\n",
       " 'kl_node_features': [0.23175848875031635, 0.05813050802825191],\n",
       " 'wd_node_features': [0.04016307662315018, 0.04367399380382586]}"
      ]
     },
     "execution_count": 159,
     "metadata": {},
     "output_type": "execute_result"
    }
   ],
   "source": [
    "from torch_geometric.utils import dense_to_sparse, to_dense_adj, to_dense_batch\n",
    "from evaluate import kld_evaluation\n",
    "kld_evaluation(all_g, test_data, distributions)"
   ]
  },
  {
   "cell_type": "code",
   "execution_count": 164,
   "id": "ce37d349",
   "metadata": {},
   "outputs": [
    {
     "data": {
      "text/plain": [
       "(0.14494449838928414, 0.041918535213488026)"
      ]
     },
     "execution_count": 164,
     "metadata": {},
     "output_type": "execute_result"
    }
   ],
   "source": [
    "np.mean( [0.23175848875031635, 0.05813050802825191]), np.mean([0.04016307662315018, 0.04367399380382586])"
   ]
  },
  {
   "cell_type": "code",
   "execution_count": 162,
   "id": "2981d8bf",
   "metadata": {},
   "outputs": [],
   "source": [
    "node_cnts_test, edge_cnts_test, node_features_test, degrees_test, dense_edge_test, connectivities_test, clustering_test = graph_set_info(test_data, return_raw=True)\n",
    "distributions_test = node_cnts_test, edge_cnts_test, node_features_test, degrees_test, dense_edge_test, connectivities_test, clustering_test\n",
    "torch.save(distributions_test, 'UL_GAN_distributions.pt')"
   ]
  }
 ],
 "metadata": {
  "kernelspec": {
   "display_name": "gnn",
   "language": "python",
   "name": "gnn"
  },
  "language_info": {
   "codemirror_mode": {
    "name": "ipython",
    "version": 3
   },
   "file_extension": ".py",
   "mimetype": "text/x-python",
   "name": "python",
   "nbconvert_exporter": "python",
   "pygments_lexer": "ipython3",
   "version": "3.10.5"
  }
 },
 "nbformat": 4,
 "nbformat_minor": 5
}
