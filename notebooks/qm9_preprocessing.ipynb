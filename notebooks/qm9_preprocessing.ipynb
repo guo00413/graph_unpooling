{
 "cells": [
  {
   "cell_type": "code",
   "execution_count": 1,
   "metadata": {},
   "outputs": [],
   "source": [
    "data_folder = '../data'\n",
    "code_folder = '../codes'\n",
    "import sys\n",
    "sys.path.append(code_folder)"
   ]
  },
  {
   "cell_type": "code",
   "execution_count": 2,
   "metadata": {},
   "outputs": [],
   "source": [
    "import os\n",
    "fop = open(os.path.join(data_folder, 'qm9.txt'))\n",
    "mols = []\n",
    "mols += [j.strip() for j in fop.readlines()]\n",
    "fop.close()"
   ]
  },
  {
   "cell_type": "code",
   "execution_count": 3,
   "metadata": {},
   "outputs": [
    {
     "data": {
      "text/plain": [
       "(133015, ['CC[C@H]1[C@@H](C)[C@H]1NC=O', 'O=COCC#CCO'])"
      ]
     },
     "execution_count": 3,
     "metadata": {},
     "output_type": "execute_result"
    }
   ],
   "source": [
    "len(mols), mols[:2]"
   ]
  },
  {
   "cell_type": "code",
   "execution_count": 4,
   "metadata": {},
   "outputs": [
    {
     "name": "stderr",
     "output_type": "stream",
     "text": [
      "/home/prod/supplementary_neurips2022/notebooks/../codes/util_richer.py:17: UserWarning: Don't have scscore package, please clone it from https://github.com/connorcoley/scscore and copy the `scscore` folder under codes folder. Currently, we will return 0 for SA score.\n",
      "  warnings.warn(\"Don't have scscore package, please clone it from https://github.com/connorcoley/scscore and copy the `scscore` folder under codes folder. Currently, we will return 0 for SA score.\")\n"
     ]
    }
   ],
   "source": [
    "from rdkit import Chem\n",
    "import pandas as pd\n",
    "from util_richer import dataFromSmile\n",
    "from rdkit import RDLogger    \n",
    "RDLogger.DisableLog('rdApp.*') # avoid warning messages.\n",
    "all_graphs = []\n",
    "for smile_str in mols:\n",
    "    used = dataFromSmile(smile_str, without_aroma=True, node_dim=4)\n",
    "    all_graphs.append(used)"
   ]
  },
  {
   "cell_type": "code",
   "execution_count": 5,
   "metadata": {},
   "outputs": [],
   "source": [
    "from util_molecular import MolFromTorchGraphData_enriched\n",
    "all_smiles = []\n",
    "for j in all_graphs:\n",
    "    mol_comp = MolFromTorchGraphData_enriched(j, without_aroma=True, node_dim=4)\n",
    "    all_smiles.append(Chem.MolToSmiles(mol_comp))"
   ]
  },
  {
   "cell_type": "code",
   "execution_count": 6,
   "metadata": {},
   "outputs": [],
   "source": [
    "import torch\n",
    "torch.save(all_graphs, 'qm9_data_noar.pt')\n",
    "torch.save(all_smiles, 'qm9_smiles_noar.pt')"
   ]
  }
 ],
 "metadata": {
  "kernelspec": {
   "display_name": "Python 3",
   "language": "python",
   "name": "python3"
  },
  "language_info": {
   "codemirror_mode": {
    "name": "ipython",
    "version": 3
   },
   "file_extension": ".py",
   "mimetype": "text/x-python",
   "name": "python",
   "nbconvert_exporter": "python",
   "pygments_lexer": "ipython3",
   "version": "3.9.5"
  }
 },
 "nbformat": 4,
 "nbformat_minor": 4
}
