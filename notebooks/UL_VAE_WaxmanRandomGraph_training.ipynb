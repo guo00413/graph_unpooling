{
 "cells": [
  {
   "cell_type": "code",
   "execution_count": 1,
   "id": "53e69ed1",
   "metadata": {},
   "outputs": [],
   "source": [
    "import sys\n",
    "import torch\n",
    "from model_graph import RGDiscrimininator, RGULGenerator, RGVAE\n",
    "util_path = '../codes'\n",
    "sys.path.append(util_path)\n"
   ]
  },
  {
   "cell_type": "code",
   "execution_count": 4,
   "id": "f16f961c",
   "metadata": {},
   "outputs": [],
   "source": []
  },
  {
   "cell_type": "code",
   "execution_count": 5,
   "id": "9764d896",
   "metadata": {},
   "outputs": [],
   "source": [
    "device = 'cuda:5'\n",
    "generator = RGULGenerator(in_dim=128, initial_dim=128, \\\n",
    "            hidden_dims=[[128], [128], [512]], \\\n",
    "            final_layer_dims=[64], hidden_act='relu', \\\n",
    "            edge_hidden_dim=16, \\\n",
    "            leaky_relu_coef=0.05, device=device, \\\n",
    "            skip_z=True, skip_z_dims=None, \\\n",
    "            unpool_bn=False, link_bn=False, \\\n",
    "            link_act='leaky', unpool_para=dict(add_additional_link=True, add_perference=True, \\\n",
    "                                roll_bn=False, roll_simple=True, add_bn=False), \\\n",
    "            attr_bn=False, edge_out_dim=None, \\\n",
    "            fix_points=[0, 0], roll_ones=[2, 5], node_nums = [3, 6, 12], \\\n",
    "            use_bn = False, skipz_bn=False, final_bn=False\n",
    "            )\n",
    "discriminator = RGDiscrimininator(in_dim=2, hidden_dim=[128, 256], lin_hidden_dim=128, \n",
    "                out_hidden_dim=[128, 256], device=device, \\\n",
    "                useBN=False, droprate=None, outBN=False, out_drop=None, \\\n",
    "                final_layers=2, \\\n",
    "                conv_layers=2,\n",
    "                last_act='linear', relu_coef=0.05, outdim=128)\n",
    "\n",
    "vae = RGVAE(generator, discriminator, 128, 128, \n",
    "                lr=1e-4, beta=(0.5, 0.999), g_prob=True, \n",
    "                permutation=False, max_num_nodes=12, folder='ulvae_rg', \n",
    "           device=device, lambda_rl=5e-2,\n",
    "                       beta_node=1.0, beta_edge=1.0, beta_edge_total=1, beta_node_degree=1, beta_node_feature=1, \n",
    "           batch_size=64)\n",
    "vae = vae.to(device)"
   ]
  },
  {
   "cell_type": "code",
   "execution_count": 9,
   "id": "52cbb39d",
   "metadata": {},
   "outputs": [],
   "source": [
    "from torch import nn\n",
    "for param in vae.parameters():\n",
    "    if param.dim() == 1:\n",
    "        nn.init.constant(param, 0)\n",
    "    else:\n",
    "        nn.init.xavier_normal(param)\n",
    "\n",
    "def weight_initiate(m):\n",
    "    # Make inititiate with some variance.\n",
    "    if(type(m) == nn.BatchNorm2d) or (type(m) == nn.modules.batchnorm.BatchNorm2d):\n",
    "        nn.init.normal_(m.weight.data, 1.0, 0.02)\n",
    "        nn.init.constant_(m.bias.data, 0)\n",
    "    elif (type(m) == nn.BatchNorm1d) or (type(m) == nn.modules.batchnorm.BatchNorm1d):\n",
    "        nn.init.normal_(m.weight.data, 1.0, 0.02)\n",
    "        nn.init.constant_(m.bias.data, 0)\n",
    "    else:\n",
    "        if hasattr(m, \"weight\"):\n",
    "            nn.init.normal_(m.weight.data, 0.0, 0.02)\n",
    "        if hasattr(m, \"bias\") and m.bias is not None:\n",
    "            nn.init.normal_(m.bias.data, 0.0, 0.02)\n",
    "        if hasattr(m, \"root\") and m.root is not None:\n",
    "            nn.init.normal_(m.bias.data, 0.0, 0.02)\n",
    "\n",
    "\n",
    "_ = vae.decoder.apply(weight_initiate)"
   ]
  },
  {
   "cell_type": "code",
   "execution_count": 11,
   "id": "782a7f7c",
   "metadata": {},
   "outputs": [],
   "source": [
    "real_data = torch.load('rand_data.pt')"
   ]
  },
  {
   "cell_type": "code",
   "execution_count": 12,
   "id": "67f1281c",
   "metadata": {},
   "outputs": [],
   "source": [
    "from torch_geometric.loader import DataLoader\n",
    "batch_size = 64\n",
    "data_loader = DataLoader(real_data, batch_size=batch_size, shuffle=True, follow_batch=['edge_index'])\n"
   ]
  },
  {
   "cell_type": "code",
   "execution_count": null,
   "id": "e8944cf9",
   "metadata": {},
   "outputs": [],
   "source": [
    "vae.train(data_loader, epoch=range(200), beta=0.1, verbose_step=50, save_step=1000)"
   ]
  },
  {
   "cell_type": "code",
   "execution_count": 17,
   "id": "c79a6c2b",
   "metadata": {},
   "outputs": [],
   "source": [
    "torch.save(vae, os.path.join(vae.folder, 'ul_vae.pt'))"
   ]
  },
  {
   "cell_type": "code",
   "execution_count": 18,
   "id": "c0d50e07",
   "metadata": {},
   "outputs": [],
   "source": [
    "from evaluate import convert_sample_to_space, graph_set_info\n",
    "node_cnts, edge_cnts, node_features, degrees, dense_edge, connectivities, clustering = graph_set_info(real_data, return_raw=True)\n",
    "distributions = node_cnts, edge_cnts, node_features, degrees, dense_edge, connectivities, clustering"
   ]
  },
  {
   "cell_type": "code",
   "execution_count": 21,
   "id": "99d738e9",
   "metadata": {},
   "outputs": [],
   "source": [
    "# Generate data by vae.\n",
    "_ = vae.encoder.eval()\n",
    "_ = vae.decoder.eval()\n",
    "_ = vae.z_mu.eval()\n",
    "_ = vae.z_sigma.eval()\n",
    "from model_random_graph import convert_Batch_to_datalist\n",
    "test_data = []\n",
    "with torch.no_grad():\n",
    "    for attemp in range(160):\n",
    "        z_rand = torch.randn(64, vae.decoder.in_dim)\n",
    "        z_mu = vae.z_mu(z_rand)\n",
    "        z_lsgms = vae.z_sigma(z_rand)\n",
    "        z_sgm = z_lsgms.mul(0.5).exp_()\n",
    "        eps = torch.randn(z_sgm.size()).to(vae.device)\n",
    "        z = eps*z_sgm + z_mu\n",
    "        data, _ = vae.decoder(z)\n",
    "        data_list = convert_Batch_to_datalist(data.x, data.edge_index, batch=data.batch, edge_batch = data.edge_index_batch)\n",
    "        test_data.extend(data_list)"
   ]
  },
  {
   "cell_type": "code",
   "execution_count": 23,
   "id": "317eb663",
   "metadata": {},
   "outputs": [
    {
     "data": {
      "text/plain": [
       "{'kl_connectivity': 0.10795093097872549,\n",
       " 'wd_connectivity': 0.10466167716999164,\n",
       " 'kl_edge_density': 0.09283738668703742,\n",
       " 'wd_edge_density': 0.009848578279281248,\n",
       " 'kl_clustering_coef': 0.4078172542221576,\n",
       " 'wd_clustering_coef': 0.09955565111308703,\n",
       " 'kl_avg_degrees': 0.1881074304649374,\n",
       " 'wd_avg_degrees': 0.18302501576936875,\n",
       " 'kl_node_features': [0.5568519278479547, 0.7129989260420687],\n",
       " 'wd_node_features': [0.12277281242492655, 0.14029801737649358]}"
      ]
     },
     "execution_count": 23,
     "metadata": {},
     "output_type": "execute_result"
    }
   ],
   "source": [
    "from torch_geometric.utils import dense_to_sparse, to_dense_adj, to_dense_batch\n",
    "from evaluate import kld_evaluation\n",
    "kld_evaluation(real_data, test_data, distributions)"
   ]
  },
  {
   "cell_type": "code",
   "execution_count": 24,
   "id": "b6297705",
   "metadata": {},
   "outputs": [],
   "source": [
    "node_cnts_test, edge_cnts_test, node_features_test, degrees_test, dense_edge_test, connectivities_test, clustering_test = graph_set_info(test_data, return_raw=True)\n",
    "distributions_test = node_cnts_test, edge_cnts_test, node_features_test, degrees_test, dense_edge_test, connectivities_test, clustering_test\n",
    "torch.save(distributions_test, 'UL_VAE_distributions.pt')"
   ]
  }
 ],
 "metadata": {
  "kernelspec": {
   "display_name": "gnn",
   "language": "python",
   "name": "gnn"
  },
  "language_info": {
   "codemirror_mode": {
    "name": "ipython",
    "version": 3
   },
   "file_extension": ".py",
   "mimetype": "text/x-python",
   "name": "python",
   "nbconvert_exporter": "python",
   "pygments_lexer": "ipython3",
   "version": "3.10.5"
  }
 },
 "nbformat": 4,
 "nbformat_minor": 5
}
