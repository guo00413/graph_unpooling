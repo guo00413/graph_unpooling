{
 "cells": [
  {
   "cell_type": "code",
   "execution_count": 1,
   "metadata": {},
   "outputs": [],
   "source": [
    "%load_ext autoreload\n",
    "%autoreload 2\n",
    "import torch\n",
    "qm_data = torch.load('./qm9_data_noar.pt')"
   ]
  },
  {
   "cell_type": "code",
   "execution_count": 2,
   "metadata": {},
   "outputs": [],
   "source": [
    "import sys\n",
    "sys.path = ['../codes/'] + sys.path\n",
    "from model_vae import GraphVAE, decoder, encoder, decoderUL\n",
    "device = 'cpu'"
   ]
  },
  {
   "cell_type": "code",
   "execution_count": 6,
   "metadata": {},
   "outputs": [],
   "source": [
    "en = encoder(10, 3)"
   ]
  },
  {
   "cell_type": "code",
   "execution_count": 7,
   "metadata": {},
   "outputs": [
    {
     "name": "stderr",
     "output_type": "stream",
     "text": [
      "/home/user/miniconda3/envs/gnn/lib/python3.9/site-packages/torch_geometric/deprecation.py:13: UserWarning: 'data.DataLoader' is deprecated, use 'loader.DataLoader' instead\n",
      "  warnings.warn(out)\n"
     ]
    }
   ],
   "source": [
    "from torch_geometric.data import DataLoader\n",
    "data_loader = DataLoader(qm_data, batch_size=64, shuffle=True, follow_batch=['edge_index'])\n"
   ]
  },
  {
   "cell_type": "code",
   "execution_count": 8,
   "metadata": {},
   "outputs": [],
   "source": [
    "en = en.to(device)"
   ]
  },
  {
   "cell_type": "code",
   "execution_count": 11,
   "metadata": {},
   "outputs": [],
   "source": [
    "dn = decoderUL(128, 128, 128, 9, 10, 3, hidden_dims=[[128, 128], [128, 256], [256]], \\\n",
    "               edge_hidden_dim=32, \n",
    "               device=device, attr_bn=-1, edge_out_dim=64, fix_points=[1, 1], roll_ones=[0, 3]).to(device)"
   ]
  },
  {
   "cell_type": "code",
   "execution_count": 12,
   "metadata": {},
   "outputs": [],
   "source": [
    "vae = GraphVAE(en, dn, 9, decode_type='ul', adj_loss='adjbce', device=device)"
   ]
  },
  {
   "cell_type": "code",
   "execution_count": 14,
   "metadata": {},
   "outputs": [],
   "source": [
    "from train_vae import train_ul, train_ul_v2"
   ]
  },
  {
   "cell_type": "code",
   "execution_count": null,
   "metadata": {},
   "outputs": [],
   "source": [
    "train_ul(data_loader, vae, 150, device=device, debug=True, separate_update=True, moving_ave=True)"
   ]
  },
  {
   "cell_type": "code",
   "execution_count": 75,
   "metadata": {},
   "outputs": [],
   "source": [
    "h_data = []\n",
    "vae.eval()\n",
    "jj = 0\n",
    "for j in data_loader:\n",
    "    jj += 1\n",
    "    x, edge_attr, edge_index, batch, edge_batch = \\\n",
    "    j.x, j.edge_attr, j.edge_index, j.batch, j.edge_index_batch\n",
    "    if not hasattr(vae, 'decode_type'):\n",
    "        vae.decode_type = 'adj'\n",
    "    num_batches = max(batch) + 1\n",
    "    num_index = torch.zeros(num_batches, dtype=torch.long)\n",
    "    for j in range(num_batches):\n",
    "        num_index[j] = (batch <= j).sum()\n",
    "    input_features, adj, attr_tensor = vae.generate_adj(x, edge_index, edge_attr, batch, edge_batch, num_index)\n",
    "    graph_h = vae.encoder(x, edge_index, edge_attr, batch, edge_batch)\n",
    "    h_data.append(graph_h)\n",
    "    if jj > 100:\n",
    "        break"
   ]
  },
  {
   "cell_type": "code",
   "execution_count": 76,
   "metadata": {},
   "outputs": [],
   "source": [
    "tot_h_data = torch.cat(h_data, axis=0)"
   ]
  },
  {
   "cell_type": "code",
   "execution_count": 78,
   "metadata": {},
   "outputs": [],
   "source": [
    "from graphvae.util_molecular import MolFromTorchGraphData, evaluate, MolFromTorchGraphData_enriched\n",
    "from graphvae.unpool_utils import convert_Batch_to_datalist\n",
    "from torch_geometric.data import Data, Batch\n",
    "import torch.nn.functional as F\n",
    "from rdkit import RDLogger    \n",
    "from torch_geometric.data import Data\n",
    "RDLogger.DisableLog('rdApp.*')\n",
    "\n",
    "mol_data = torch.load('../../unpool/qm9_smiles_noar.pt')\n",
    "\n",
    "evaluate_num = 10000\n",
    "batch_size = 128\n",
    "z_dim = 128\n",
    "dnul = vae.decoder\n",
    "dnul.eval()\n",
    "hard = True\n",
    "tau = 1\n"
   ]
  },
  {
   "cell_type": "code",
   "execution_count": null,
   "metadata": {},
   "outputs": [],
   "source": []
  },
  {
   "cell_type": "code",
   "execution_count": 79,
   "metadata": {},
   "outputs": [
    {
     "name": "stdout",
     "output_type": "stream",
     "text": [
      "Uniqueness at 1k, 10k 0.984 0.9424868367760226\n",
      "(0.7418870192307693, 0.9424868367760226, 0.9459962756052142)\n"
     ]
    }
   ],
   "source": [
    "all_res = []\n",
    "dnul.eval()\n",
    "with torch.no_grad():\n",
    "\n",
    "    for j in range(1):\n",
    "        eval_fake_data = []\n",
    "        problem_info = []\n",
    "        for j in range(evaluate_num//batch_size):\n",
    "            # Use new randoms..\n",
    "            z_rand = torch.randn(batch_size, vae.decoder.in_dim)*tot_h_data.std(axis=0).unsqueeze(0) + tot_h_data.mean(axis=0).unsqueeze(0)\n",
    "            z = z_rand.to(device)\n",
    "            res2 = dnul(z)\n",
    "            x, g_edge_attr, g_edge_index, g_batch, g_edge_batch = res2[:-3]\n",
    "\n",
    "            g_edge_attr = torch.softmax(g_edge_attr, dim=-1)\n",
    "            out1 = torch.softmax(x[:, :4], dim=-1)\n",
    "            out2 = torch.softmax(x[:, 4:7], dim=-1)\n",
    "            out3 = torch.softmax(x[:, 7:10], dim=-1)\n",
    "\n",
    "            xs1 = F.gumbel_softmax(torch.log(out1), dim=1, hard=hard, tau=tau)\n",
    "            xs2 = F.gumbel_softmax(torch.log(out2), dim=1, hard=hard, tau=tau)\n",
    "            xs3 = F.gumbel_softmax(torch.log(out3), dim=1, hard=hard, tau=tau)\n",
    "            g_edge_attr = F.gumbel_softmax(torch.log(g_edge_attr), dim=1, hard=hard, tau=tau)\n",
    "            out_features = torch.cat([xs1, xs2, xs3], axis=1)\n",
    "\n",
    "            fake_data = convert_Batch_to_datalist(x=out_features, edge_index=g_edge_index, edge_attr=g_edge_attr, batch=g_batch, edge_batch=g_edge_batch)\n",
    "            fake_data = Batch.from_data_list(\\\n",
    "                [Data(x=j.x, edge_index=j.edge_index, edge_attr=j.edge_attr) \\\n",
    "                        for j in fake_data], \\\n",
    "                        follow_batch=['edge_index'])\n",
    "            eval_fake_data.extend([fake_data[j] for j in range(fake_data.batch.max().item() + 1)])\n",
    "\n",
    "        eval_fake_data = [MolFromTorchGraphData_enriched(j.to('cpu'), node_dim=4, without_aroma=True) for j in eval_fake_data]\n",
    "        eval_res = evaluate(eval_fake_data, mol_data, eval_two=True)\n",
    "        print (eval_res)\n",
    "        all_res.append(eval_res)"
   ]
  },
  {
   "cell_type": "code",
   "execution_count": 72,
   "metadata": {},
   "outputs": [
    {
     "name": "stdout",
     "output_type": "stream",
     "text": [
      "Uniqueness at 1k, 10k 0.986 0.9435351882160393\n",
      "(0.734375, 0.9435351882160393, 0.9551893610870194)\n",
      "Uniqueness at 1k, 10k 0.986 0.9436946148602591\n",
      "(0.7346754807692307, 0.9436946148602591, 0.9505923143600116)\n",
      "Uniqueness at 1k, 10k 0.994 0.9352016404647984\n",
      "(0.7326722756410257, 0.9352016404647984, 0.9469375822248209)\n",
      "Uniqueness at 1k, 10k 0.983 0.9425648021828104\n",
      "(0.7341746794871795, 0.9425648021828104, 0.9509335649153279)\n",
      "Uniqueness at 1k, 10k 0.981 0.9326663061114115\n",
      "(0.7407852564102564, 0.9326663061114115, 0.9494056248187881)\n",
      "Uniqueness at 1k, 10k 0.987 0.939319393193932\n",
      "(0.7328725961538461, 0.939319393193932, 0.949949076094864)\n",
      "Uniqueness at 1k, 10k 0.992 0.9434217650243638\n",
      "(0.7399839743589743, 0.9434217650243638, 0.951506456241033)\n",
      "Uniqueness at 1k, 10k 0.985 0.942019099590723\n",
      "(0.7341746794871795, 0.942019099590723, 0.9477190441708907)\n",
      "Uniqueness at 1k, 10k 0.985 0.9391458589166326\n",
      "(0.7340745192307693, 0.9391458589166326, 0.9507482202527967)\n",
      "Uniqueness at 1k, 10k 0.985 0.9380978409401476\n",
      "(0.7329727564102564, 0.9380978409401476, 0.9504734158776402)\n",
      "Uniqueness at 1k, 10k 0.989 0.938413218626246\n",
      "(0.7334735576923077, 0.938413218626246, 0.95023282887078)\n",
      "Uniqueness at 1k, 10k 0.987 0.9348983212774669\n",
      "(0.7338741987179487, 0.9348983212774669, 0.947007299270073)\n",
      "Uniqueness at 1k, 10k 0.988 0.9416485310119695\n",
      "(0.7363782051282052, 0.9416485310119695, 0.9531994799942222)\n",
      "Uniqueness at 1k, 10k 0.978 0.9449339207048458\n",
      "(0.7275641025641025, 0.9449339207048458, 0.9500291375291375)\n",
      "Uniqueness at 1k, 10k 0.983 0.9380590946055841\n",
      "(0.7389823717948718, 0.9380590946055841, 0.9517410778789193)\n",
      "Uniqueness at 1k, 10k 0.986 0.9443086117902744\n",
      "(0.7373798076923077, 0.9443086117902744, 0.9502301495972382)\n",
      "Uniqueness at 1k, 10k 0.979 0.9365101037684326\n",
      "(0.733573717948718, 0.9365101037684326, 0.9479515964426302)\n",
      "Uniqueness at 1k, 10k 0.987 0.9409202286958889\n",
      "(0.7357772435897436, 0.9409202286958889, 0.9513888888888888)\n",
      "Uniqueness at 1k, 10k 0.989 0.9428377460964019\n",
      "(0.7376802884615384, 0.9428377460964019, 0.9521889400921659)\n",
      "Uniqueness at 1k, 10k 0.989 0.9429117727396886\n",
      "(0.7333733974358975, 0.9429117727396886, 0.9519119351100811)\n",
      "Uniqueness at 1k, 10k 0.987 0.9424076607387141\n",
      "(0.7321714743589743, 0.9424076607387141, 0.9499201625780229)\n",
      "Uniqueness at 1k, 10k 0.989 0.944788580662537\n",
      "(0.7437900641025641, 0.944788580662537, 0.9501140250855188)\n",
      "Uniqueness at 1k, 10k 0.988 0.943567211314019\n",
      "(0.7294671474358975, 0.943567211314019, 0.9476135040745053)\n",
      "Uniqueness at 1k, 10k 0.982 0.9376619833583413\n",
      "(0.7342748397435898, 0.9376619833583413, 0.947628745999418)\n",
      "Uniqueness at 1k, 10k 0.994 0.941280413211907\n",
      "(0.7368790064102564, 0.941280413211907, 0.9506137184115524)\n",
      "Uniqueness at 1k, 10k 0.986 0.9436388508891929\n",
      "(0.7321714743589743, 0.9436388508891929, 0.9508553203827196)\n",
      "Uniqueness at 1k, 10k 0.991 0.9436390732963014\n",
      "(0.7392828525641025, 0.9436390732963014, 0.9493180186647523)\n",
      "Uniqueness at 1k, 10k 0.986 0.9420668776661622\n",
      "(0.7278645833333334, 0.9420668776661622, 0.9497516798130295)\n",
      "Uniqueness at 1k, 10k 0.985 0.9429710045348357\n",
      "(0.7288661858974359, 0.9429710045348357, 0.9491401923637424)\n",
      "Uniqueness at 1k, 10k 0.997 0.9408765159867696\n",
      "(0.7267628205128205, 0.9408765159867696, 0.9507836531419365)\n",
      "Uniqueness at 1k, 10k 0.984 0.939143399295202\n",
      "(0.7389823717948718, 0.939143399295202, 0.9525184009236543)\n",
      "Uniqueness at 1k, 10k 0.985 0.9384782904586906\n",
      "(0.7358774038461539, 0.9384782904586906, 0.9483683828861493)\n",
      "Uniqueness at 1k, 10k 0.988 0.9431926805953844\n",
      "(0.7334735576923077, 0.9431926805953844, 0.9507745765165774)\n",
      "Uniqueness at 1k, 10k 0.993 0.9383458646616541\n",
      "(0.7326722756410257, 0.9383458646616541, 0.9484265734265734)\n",
      "Uniqueness at 1k, 10k 0.987 0.944152165115338\n",
      "(0.7424879807692307, 0.944152165115338, 0.9475639377053865)\n",
      "Uniqueness at 1k, 10k 0.991 0.9429001780090374\n",
      "(0.7314703525641025, 0.9429001780090374, 0.949317455707232)\n",
      "Uniqueness at 1k, 10k 0.987 0.9400164338537387\n",
      "(0.7313701923076923, 0.9400164338537387, 0.946969696969697)\n",
      "Uniqueness at 1k, 10k 0.988 0.9377279481291368\n",
      "(0.7414863782051282, 0.9377279481291368, 0.9498703543647364)\n",
      "Uniqueness at 1k, 10k 0.992 0.9370365376836997\n",
      "(0.7428886217948718, 0.9370365376836997, 0.9517985611510792)\n",
      "Uniqueness at 1k, 10k 0.981 0.9399566278124153\n",
      "(0.7389823717948718, 0.9399566278124153, 0.9511175198269647)\n",
      "Uniqueness at 1k, 10k 0.981 0.9419257635940282\n",
      "(0.731270032051282, 0.9419257635940282, 0.9428529882216082)\n",
      "Uniqueness at 1k, 10k 0.987 0.942462757960913\n",
      "(0.7328725961538461, 0.942462757960913, 0.947360788863109)\n",
      "Uniqueness at 1k, 10k 0.986 0.9384303112313938\n",
      "(0.7401842948717948, 0.9384303112313938, 0.9469358327325162)\n",
      "Uniqueness at 1k, 10k 0.987 0.9376846629062584\n",
      "(0.7457932692307693, 0.9376846629062584, 0.9480091664279576)\n",
      "Uniqueness at 1k, 10k 0.987 0.9438845001362026\n",
      "(0.7353766025641025, 0.9438845001362026, 0.949062049062049)\n",
      "Uniqueness at 1k, 10k 0.986 0.9424440807419531\n",
      "(0.734375, 0.9424440807419531, 0.9445730824891462)\n",
      "Uniqueness at 1k, 10k 0.988 0.9379655966409318\n",
      "(0.7394831730769231, 0.9379655966409318, 0.9496028880866426)\n",
      "Uniqueness at 1k, 10k 0.987 0.9394271618473345\n",
      "(0.7308693910256411, 0.9394271618473345, 0.9479212253829322)\n",
      "Uniqueness at 1k, 10k 0.995 0.9452589105581708\n",
      "(0.7446915064102564, 0.9452589105581708, 0.9499146272054638)\n",
      "Uniqueness at 1k, 10k 0.984 0.9398167145397347\n",
      "(0.7322716346153846, 0.9398167145397347, 0.947896958230243)\n",
      "Uniqueness at 1k, 10k 0.989 0.9428846683181943\n",
      "(0.7277644230769231, 0.9428846683181943, 0.9480367829513939)\n",
      "Uniqueness at 1k, 10k 0.99 0.9442465753424657\n",
      "(0.7311698717948718, 0.9442465753424657, 0.949659074423328)\n",
      "Uniqueness at 1k, 10k 0.984 0.9394188596491229\n",
      "(0.7307692307692307, 0.9394188596491229, 0.948497227896119)\n",
      "Uniqueness at 1k, 10k 0.987 0.9447945205479452\n",
      "(0.7311698717948718, 0.9447945205479452, 0.9464984775989561)\n",
      "Uniqueness at 1k, 10k 0.987 0.9381931295645117\n",
      "(0.7405849358974359, 0.9381931295645117, 0.9465186680121089)\n",
      "Uniqueness at 1k, 10k 0.988 0.9446554530656538\n",
      "(0.7383814102564102, 0.9446554530656538, 0.9484491671453188)\n",
      "Uniqueness at 1k, 10k 0.979 0.9404713254325023\n",
      "(0.7352764423076923, 0.9404713254325023, 0.9472769409038239)\n",
      "Uniqueness at 1k, 10k 0.986 0.936053676571272\n",
      "(0.7314703525641025, 0.936053676571272, 0.9461673493270919)\n",
      "Uniqueness at 1k, 10k 0.989 0.9408660351826793\n",
      "(0.7401842948717948, 0.9408660351826793, 0.9525384726017546)\n",
      "Uniqueness at 1k, 10k 0.986 0.9372950819672131\n",
      "(0.7331730769230769, 0.9372950819672131, 0.9505902929602099)\n",
      "Uniqueness at 1k, 10k 0.986 0.9375934738273284\n",
      "(0.7366786858974359, 0.9375934738273284, 0.9486658932714617)\n",
      "Uniqueness at 1k, 10k 0.989 0.9418206707734429\n",
      "(0.7316706730769231, 0.9418206707734429, 0.9523255813953488)\n",
      "Uniqueness at 1k, 10k 0.985 0.9421016949152542\n",
      "(0.7386818910256411, 0.9421016949152542, 0.9491940126655153)\n",
      "Uniqueness at 1k, 10k 0.991 0.9408602150537635\n",
      "(0.7451923076923077, 0.9408602150537635, 0.9487142857142857)\n",
      "Uniqueness at 1k, 10k 0.99 0.9407044743642051\n",
      "(0.7364783653846154, 0.9407044743642051, 0.94549660257337)\n",
      "Uniqueness at 1k, 10k 0.994 0.9392287777626379\n",
      "(0.7350761217948718, 0.9392287777626379, 0.9492238502828957)\n",
      "Uniqueness at 1k, 10k 0.983 0.9382732834806254\n",
      "(0.7366786858974359, 0.9382732834806254, 0.9479785538327778)\n",
      "Uniqueness at 1k, 10k 0.982 0.9379567075692816\n",
      "(0.7264623397435898, 0.9379567075692816, 0.9491400852565045)\n",
      "Uniqueness at 1k, 10k 0.988 0.9380771319934817\n",
      "(0.7375801282051282, 0.9380771319934817, 0.9471627099015634)\n",
      "Uniqueness at 1k, 10k 0.991 0.9383841131664853\n",
      "(0.7363782051282052, 0.9383841131664853, 0.9479634729670967)\n",
      "Uniqueness at 1k, 10k 0.983 0.936911102007374\n",
      "(0.7334735576923077, 0.936911102007374, 0.9492785308264101)\n",
      "Uniqueness at 1k, 10k 0.986 0.9449591280653951\n",
      "(0.735176282051282, 0.9449591280653951, 0.9450692041522492)\n",
      "Uniqueness at 1k, 10k 0.99 0.9435319668793267\n",
      "(0.7378806089743589, 0.9435319668793267, 0.9459070637318372)\n",
      "Uniqueness at 1k, 10k 0.987 0.9455567745474492\n",
      "(0.7303685897435898, 0.9455567745474492, 0.9470630891950689)\n",
      "Uniqueness at 1k, 10k 0.99 0.9392039258451472\n",
      "(0.7347756410256411, 0.9392039258451472, 0.9476052249637156)\n",
      "Uniqueness at 1k, 10k 0.991 0.9422475879874983\n",
      "(0.7370793269230769, 0.9422475879874983, 0.9480819152004615)\n",
      "Uniqueness at 1k, 10k 0.987 0.9386262024115973\n",
      "(0.7392828525641025, 0.9386262024115973, 0.9460161662817552)\n",
      "Uniqueness at 1k, 10k 0.986 0.942189421894219\n",
      "(0.7328725961538461, 0.942189421894219, 0.951552074267479)\n",
      "Uniqueness at 1k, 10k 0.988 0.9339763619073496\n",
      "(0.7372796474358975, 0.9339763619073496, 0.9451636363636363)\n",
      "Uniqueness at 1k, 10k 0.989 0.942203573362209\n",
      "(0.7399839743589743, 0.942203573362209, 0.9484269501508404)\n",
      "Uniqueness at 1k, 10k 0.984 0.9377049180327869\n",
      "(0.7331730769230769, 0.9377049180327869, 0.951048951048951)\n",
      "Uniqueness at 1k, 10k 0.988 0.9439967217593225\n",
      "(0.7332732371794872, 0.9439967217593225, 0.9509477644335118)\n",
      "Uniqueness at 1k, 10k 0.985 0.943016455868353\n",
      "(0.7364783653846154, 0.943016455868353, 0.9486587828093452)\n",
      "Uniqueness at 1k, 10k 0.988 0.938204536194486\n",
      "(0.737479967948718, 0.938204536194486, 0.9484655471916619)\n",
      "Uniqueness at 1k, 10k 0.989 0.940952380952381\n",
      "(0.7361778846153846, 0.940952380952381, 0.9493927125506073)\n",
      "Uniqueness at 1k, 10k 0.984 0.9385665529010239\n",
      "(0.7336738782051282, 0.9385665529010239, 0.9489454545454545)\n",
      "Uniqueness at 1k, 10k 0.992 0.9389645776566757\n",
      "(0.735176282051282, 0.9389645776566757, 0.952263493905978)\n",
      "Uniqueness at 1k, 10k 0.985 0.9351964358039693\n",
      "(0.7418870192307693, 0.9351964358039693, 0.9503392522015303)\n",
      "Uniqueness at 1k, 10k 0.988 0.9385702636586029\n",
      "(0.7369791666666666, 0.9385702636586029, 0.9481610194034173)\n",
      "Uniqueness at 1k, 10k 0.993 0.9447595894111291\n",
      "(0.7415865384615384, 0.9447595894111291, 0.9469621157969978)\n",
      "Uniqueness at 1k, 10k 0.985 0.9426969365426696\n",
      "(0.7323717948717948, 0.9426969365426696, 0.9492238502828957)\n",
      "Uniqueness at 1k, 10k 0.987 0.9363819771351715\n",
      "(0.7446915064102564, 0.9363819771351715, 0.9487216317150244)\n",
      "Uniqueness at 1k, 10k 0.983 0.9404859404859405\n",
      "(0.7337740384615384, 0.9404859404859405, 0.9497822931785196)\n",
      "Uniqueness at 1k, 10k 0.992 0.9413212966762413\n",
      "(0.7322716346153846, 0.9413212966762413, 0.9503051438535309)\n",
      "Uniqueness at 1k, 10k 0.994 0.9375512435091555\n",
      "(0.7329727564102564, 0.9375512435091555, 0.9469465092552106)\n",
      "Uniqueness at 1k, 10k 0.987 0.941825199889716\n",
      "(0.7265625, 0.941825199889716, 0.9503805620608899)\n",
      "Uniqueness at 1k, 10k 0.992 0.943031951053705\n",
      "(0.7366786858974359, 0.943031951053705, 0.947520184544406)\n",
      "Uniqueness at 1k, 10k 0.984 0.9429229934924078\n",
      "(0.7387820512820513, 0.9429229934924078, 0.9514018691588785)\n",
      "Uniqueness at 1k, 10k 0.992 0.9398892340942862\n",
      "(0.7414863782051282, 0.9398892340942862, 0.9488358723771199)\n",
      "Uniqueness at 1k, 10k 0.986 0.9425444596443229\n",
      "(0.7321714743589743, 0.9425444596443229, 0.948911465892598)\n"
     ]
    }
   ],
   "source": [
    "all_res = []\n",
    "dnul.eval()\n",
    "with torch.no_grad():\n",
    "\n",
    "    for j in range(100):\n",
    "        eval_fake_data = []\n",
    "        problem_info = []\n",
    "        for j in range(evaluate_num//batch_size):\n",
    "            # Use new randoms..\n",
    "            z_rand = torch.randn(batch_size, vae.decoder.in_dim)*tot_h_data.std(axis=0).unsqueeze(0) + tot_h_data.mean(axis=0).unsqueeze(0)\n",
    "            z = z_rand.to(device)\n",
    "            res2 = dnul(z)\n",
    "            x, g_edge_attr, g_edge_index, g_batch, g_edge_batch = res2[:-3]\n",
    "\n",
    "            g_edge_attr = torch.softmax(g_edge_attr, dim=-1)\n",
    "            out1 = torch.softmax(x[:, :4], dim=-1)\n",
    "            out2 = torch.softmax(x[:, 4:7], dim=-1)\n",
    "            out3 = torch.softmax(x[:, 7:10], dim=-1)\n",
    "\n",
    "            xs1 = F.gumbel_softmax(torch.log(out1), dim=1, hard=hard, tau=tau)\n",
    "            xs2 = F.gumbel_softmax(torch.log(out2), dim=1, hard=hard, tau=tau)\n",
    "            xs3 = F.gumbel_softmax(torch.log(out3), dim=1, hard=hard, tau=tau)\n",
    "            g_edge_attr = F.gumbel_softmax(torch.log(g_edge_attr), dim=1, hard=hard, tau=tau)\n",
    "            out_features = torch.cat([xs1, xs2, xs3], axis=1)\n",
    "\n",
    "            fake_data = convert_Batch_to_datalist(x=out_features, edge_index=g_edge_index, edge_attr=g_edge_attr, batch=g_batch, edge_batch=g_edge_batch)\n",
    "            fake_data = Batch.from_data_list(\\\n",
    "                [Data(x=j.x, edge_index=j.edge_index, edge_attr=j.edge_attr) \\\n",
    "                        for j in fake_data], \\\n",
    "                        follow_batch=['edge_index'])\n",
    "            eval_fake_data.extend([fake_data[j] for j in range(fake_data.batch.max().item() + 1)])\n",
    "\n",
    "        eval_fake_data = [MolFromTorchGraphData_enriched(j.to('cpu'), node_dim=4, without_aroma=True) for j in eval_fake_data]\n",
    "        eval_res = evaluate(eval_fake_data, mol_data, eval_two=True)\n",
    "        print (eval_res)\n",
    "        all_res.append(eval_res)"
   ]
  },
  {
   "cell_type": "code",
   "execution_count": 73,
   "metadata": {},
   "outputs": [],
   "source": [
    "torch.save(vae, 'ULVAE_QM9.pt')\n"
   ]
  },
  {
   "cell_type": "code",
   "execution_count": 51,
   "metadata": {},
   "outputs": [
    {
     "data": {
      "image/png": "[encoded data removed]",
      "text/plain": [
       "<rdkit.Chem.rdchem.RWMol at 0x7efe828274a0>"
      ]
     },
     "execution_count": 51,
     "metadata": {},
     "output_type": "execute_result"
    }
   ],
   "source": [
    "eval_fake_data[1021]"
   ]
  },
  {
   "cell_type": "code",
   "execution_count": 53,
   "metadata": {},
   "outputs": [
    {
     "data": {
      "image/png": "[encoded data removed]",
      "text/plain": [
       "<rdkit.Chem.rdchem.RWMol at 0x7efe82591ef0>"
      ]
     },
     "execution_count": 53,
     "metadata": {},
     "output_type": "execute_result"
    }
   ],
   "source": [
    "eval_fake_data[21]"
   ]
  },
  {
   "cell_type": "code",
   "execution_count": 54,
   "metadata": {},
   "outputs": [
    {
     "data": {
      "image/png": "[encoded data removed]",
      "text/plain": [
       "<rdkit.Chem.rdchem.RWMol at 0x7efe82700b80>"
      ]
     },
     "execution_count": 54,
     "metadata": {},
     "output_type": "execute_result"
    }
   ],
   "source": [
    "eval_fake_data[2]"
   ]
  }
 ],
 "metadata": {
  "kernelspec": {
   "display_name": "Python 3 (ipykernel)",
   "language": "python",
   "name": "python3"
  },
  "language_info": {
   "codemirror_mode": {
    "name": "ipython",
    "version": 3
   },
   "file_extension": ".py",
   "mimetype": "text/x-python",
   "name": "python",
   "nbconvert_exporter": "python",
   "pygments_lexer": "ipython3",
   "version": "3.9.9"
  }
 },
 "nbformat": 4,
 "nbformat_minor": 4
}
